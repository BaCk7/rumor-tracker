{
 "cells": [
  {
   "cell_type": "markdown",
   "metadata": {},
   "source": [
    "# Entity extraction\n",
    "Partendo da collection raw, estraggo alcuni tipi di entità (nomi, aggettivi, ecc) e metto in rumors_entity, che ha stessi elementi in aggiunta un campo \"entities\""
   ]
  },
  {
   "cell_type": "code",
   "execution_count": 140,
   "metadata": {},
   "outputs": [],
   "source": [
    "import pymongo\n",
    "client=pymongo.MongoClient()#senza parametri si connette a localhost.\n",
    "\n",
    "client.list_database_names()\n",
    "\n",
    "db=client['inforet']#prendo il db, se non c'è lo crea\n",
    "\n",
    "col = db['rumors_raw']\n",
    "\n",
    "tweets = []\n",
    "for record in col.find():\n",
    "    tweets.append(record)"
   ]
  },
  {
   "cell_type": "markdown",
   "metadata": {},
   "source": [
    "### Estrazione entità e tagging con CMU Tagger"
   ]
  },
  {
   "cell_type": "code",
   "execution_count": 141,
   "metadata": {
    "scrolled": true
   },
   "outputs": [
    {
     "name": "stdout",
     "output_type": "stream",
     "text": [
      "Parsed: 8560\n"
     ]
    }
   ],
   "source": [
    "import nbimporter\n",
    "from TweetParser.TweetParser import TweetParser #http://www.cs.cmu.edu/~ark/TweetNLP/\n",
    "\n",
    "parser = TweetParser() # oppure parser = TweetParser(tags_to_keep) #tags_to_keep = [ 'N','^','S','Z','A','#','$'] #print parser.tags_to_keep\n",
    "#tagged_entities = parser.tokenize_tweets_from_file(\"TweetParser/examples/example_tweets.txt\")\n",
    "entities = parser.tokenize_tweets(tweets)\n",
    "print \"Parsed: \" + str(len(entities))"
   ]
  },
  {
   "cell_type": "markdown",
   "metadata": {},
   "source": [
    "### Aggiunta al db"
   ]
  },
  {
   "cell_type": "code",
   "execution_count": 143,
   "metadata": {},
   "outputs": [],
   "source": [
    "for i in range(len(tweets)):\n",
    "    tweets[i]['entities']= entities[i]"
   ]
  },
  {
   "cell_type": "code",
   "execution_count": 144,
   "metadata": {},
   "outputs": [
    {
     "data": {
      "text/plain": [
       "<pymongo.results.InsertManyResult at 0x342db288>"
      ]
     },
     "execution_count": 144,
     "metadata": {},
     "output_type": "execute_result"
    }
   ],
   "source": [
    "client=pymongo.MongoClient()\n",
    "db=client['inforet']\n",
    "db[\"rumors_entity_cmu\"].drop()\n",
    "col = db[\"rumors_entity_cmu\"]\n",
    "col.insert_many(tweets)"
   ]
  },
  {
   "cell_type": "markdown",
   "metadata": {},
   "source": [
    "### Filtraggio per tipo"
   ]
  },
  {
   "cell_type": "code",
   "execution_count": 145,
   "metadata": {},
   "outputs": [],
   "source": [
    "list_of_types = [ 'N','^','S','Z','A','#','$']\n",
    "\n",
    "def keep_only_entities_of_type(entities, list_of_types):\n",
    "    for index, l in enumerate(entities):\n",
    "        filtered_list = [entity_tag for entity_tag in l if entity_tag[1] in list_of_types]\n",
    "        entities[index] = filtered_list\n",
    "    return entities"
   ]
  },
  {
   "cell_type": "markdown",
   "metadata": {},
   "source": [
    "### Rimozione stopwords"
   ]
  },
  {
   "cell_type": "code",
   "execution_count": 146,
   "metadata": {},
   "outputs": [],
   "source": [
    "from nltk.corpus import stopwords\n",
    "\n",
    "def remove_stopwords(entities, list_of_stopwords=[]):\n",
    "    \n",
    "    if not list_of_stopwords:\n",
    "        list_of_stopwords = set(stopwords.words('english'))\n",
    "    \n",
    "    for index, l in enumerate(entities):\n",
    "        filtered_list = [entity_tag for entity_tag in l if entity_tag[0].lower() not in list_of_stopwords]\n",
    "        entities[index] = filtered_list\n",
    "    return entities"
   ]
  },
  {
   "cell_type": "markdown",
   "metadata": {},
   "source": [
    "#### Remove confidence"
   ]
  },
  {
   "cell_type": "code",
   "execution_count": 147,
   "metadata": {},
   "outputs": [],
   "source": [
    "def remove_confidence(entities):\n",
    "    for index, l in enumerate(entities):\n",
    "        filtered_list = [ (entity_tag[0],entity_tag[1]) for entity_tag in l]\n",
    "        entities[index] = filtered_list\n",
    "    return entities"
   ]
  },
  {
   "cell_type": "markdown",
   "metadata": {},
   "source": [
    "#### lowercase"
   ]
  },
  {
   "cell_type": "code",
   "execution_count": 148,
   "metadata": {},
   "outputs": [],
   "source": [
    "def entities_to_lower(entities):\n",
    "    for list_index, list_entities_in_tweet in enumerate(entities):\n",
    "        for index_entity, entity_tag in enumerate(list_entities_in_tweet):\n",
    "            entities[list_index][index_entity] = (entity_tag[0].lower(),entity_tag[1],entity_tag[2])\n",
    "    return entities"
   ]
  },
  {
   "cell_type": "code",
   "execution_count": 149,
   "metadata": {},
   "outputs": [],
   "source": [
    "#entities_to_lower(entities)\n",
    "#print len(set([tag[0] for e in entities for tag in e ]))"
   ]
  },
  {
   "cell_type": "markdown",
   "metadata": {},
   "source": [
    "### Pre-processing pipeline"
   ]
  },
  {
   "cell_type": "markdown",
   "metadata": {},
   "source": [
    "#### Tags to keep"
   ]
  },
  {
   "cell_type": "markdown",
   "metadata": {},
   "source": [
    "tags_to_keep= [ 'N','^','Z','A','#','$','S'] \n",
    "\n",
    "sono quelle più legate alla parte nominale\n",
    " \n",
    "dubbie V verbi U url R avverbi. \n",
    "\n",
    "Decise:  @ at E esclamazioni G garbage/foreign words ! interiezioni"
   ]
  },
  {
   "cell_type": "code",
   "execution_count": 150,
   "metadata": {},
   "outputs": [
    {
     "name": "stdout",
     "output_type": "stream",
     "text": [
      "{'!': 276, '#': 598, '$': 277, '&': 24, ',': 119, 'A': 1204, '@': 1895, 'E': 40, 'D': 98, 'G': 460, 'M': 0, 'L': 107, 'O': 105, 'N': 4015, 'P': 217, 'S': 20, 'R': 408, 'U': 3183, 'T': 14, 'V': 2371, 'Y': 0, 'X': 7, 'Z': 108, '^': 2754, '~': 35}\n"
     ]
    }
   ],
   "source": [
    "#UNIQUEEE\n",
    "u= dict()\n",
    "for t in parser.tags_meaning.keys():\n",
    "    n = len(set([tag[0] for e in entities for tag in e if tag[1] == t]))\n",
    "    u[t]=n\n",
    "print u"
   ]
  },
  {
   "cell_type": "code",
   "execution_count": 151,
   "metadata": {},
   "outputs": [
    {
     "name": "stdout",
     "output_type": "stream",
     "text": [
      "+------+-------+--------+----------------+-----------------------------------------------------------------------------------+\n",
      "| Type | Total | Unique |           Rate | Meaning                                                                           |\n",
      "+------+-------+--------+----------------+-----------------------------------------------------------------------------------+\n",
      "|  N   | 26850 |   4015 |  14.9534450652 | common noun                                                                       |\n",
      "|  ^   | 24122 |   2754 |  11.4169637675 | proper noun                                                                       |\n",
      "|  V   | 21279 |   2371 |  11.1424409042 | verb incl. copula, auxiliaries                                                    |\n",
      "|  ,   | 20951 |    119 |  0.56799198129 | punctuation                                                                       |\n",
      "|  P   | 15524 |    217 |  1.39783560938 | pre- or postposition, or subordinating conjunction                                |\n",
      "|  D   |  9197 |     98 |  1.06556485811 | determiner                                                                        |\n",
      "|  ~   |  8626 |     35 | 0.405750057964 | discourse marker, indications of continuation of a message across multiple tweets |\n",
      "|  A   |  6932 |   1204 |  17.3687247548 | adjective                                                                         |\n",
      "|  U   |  6113 |   3183 |  52.0693603795 | URL or email address                                                              |\n",
      "|  O   |  5576 |    105 |  1.88307030129 | pronoun (personal/WH; not possessive)                                             |\n",
      "|  @   |  5469 |   1895 |  34.6498445785 | at-mention (indicates another user as a recipient of a tweet)                     |\n",
      "|  R   |  4069 |    408 |  10.0270336692 | adverb                                                                            |\n",
      "|  #   |  3335 |    598 |  17.9310344828 | hashtag (indicates topic/category for tweet)                                      |\n",
      "|  &   |  3033 |     24 | 0.791295746785 | coordinating conjunction                                                          |\n",
      "|  $   |  2551 |    277 |  10.8584868679 | numeral                                                                           |\n",
      "|  G   |  1774 |    460 |  25.9301014656 | other abbreviations, foreign words, possessive endings, symbols, garbage          |\n",
      "|  L   |  1105 |    107 |  9.68325791855 | nominal + verbal (e.g. _i'm_), verbal + nominal (_let's_, _lemme_)                |\n",
      "|  !   |  1104 |    276 |           25.0 | interjection                                                                      |\n",
      "|  Z   |   848 |    108 |  12.7358490566 | proper noun + possessive (Palin's, Alaska's)                                      |\n",
      "|  T   |   517 |     14 |   2.7079303675 | verb particle                                                                     |\n",
      "|  E   |   140 |     40 |  28.5714285714 | emoticon                                                                          |\n",
      "|  X   |   103 |      7 |  6.79611650485 | existential _there_, predeterminers                                               |\n",
      "|  S   |    50 |     20 |           40.0 | nominal + possessive(lady's)                                                      |\n",
      "+------+-------+--------+----------------+-----------------------------------------------------------------------------------+\n"
     ]
    }
   ],
   "source": [
    "from prettytable import PrettyTable\n",
    "from collections import Counter\n",
    "\n",
    "c = Counter([tag[1] for e in entities for tag in e ]).most_common()\n",
    "\n",
    "x = PrettyTable()\n",
    "\n",
    "x.field_names = [\"Type\",\"Total\",\"Unique\",\"Rate\",\"Meaning\"]\n",
    "\n",
    "meanings = parser.tags_meaning\n",
    "\n",
    "#UNIQUEEE\n",
    "u= dict()\n",
    "for t in parser.tags_meaning.keys():\n",
    "    n = len(set([tag[0] for e in entities for tag in e if tag[1] == t]))\n",
    "    u[t]=n\n",
    "#print u\n",
    "\n",
    "from nltk.corpus import stopwords\n",
    "list_of_stopwords = set(stopwords.words('english'))\n",
    "\n",
    "stopw= dict()\n",
    "for t in parser.tags_meaning.keys():\n",
    "    n = len(set([tag[0] for e in entities for tag in e if tag[1] == t and tag[0] in list_of_stopwords ]))\n",
    "    stopw[t]=n\n",
    "\n",
    "for v in c:\n",
    "    v = list(v)\n",
    "    #print meanings[v[0]]\n",
    "    v.append(u[v[0]])\n",
    "    v.append(float(u[v[0]])*100/v[1])\n",
    "    #v.append(stopw[v[0]])\n",
    "    v.append(meanings[v[0]])\n",
    "    \n",
    "    #print v\n",
    "    x.add_row(v)\n",
    "\n",
    "\n",
    "\n",
    "x.align[\"Meaning\"] = \"l\"\n",
    "x.align[\"Total\"] = \"r\"\n",
    "x.align[\"Unique\"] = \"r\"\n",
    "x.align[\"Rate\"] = \"r\"\n",
    "#x.align[\"Stopwords\"] = \"r\"\n",
    "print(x)"
   ]
  },
  {
   "cell_type": "code",
   "execution_count": 152,
   "metadata": {},
   "outputs": [],
   "source": [
    "tags_to_keep= [ 'N','^','S','Z','A','#','$']"
   ]
  },
  {
   "cell_type": "markdown",
   "metadata": {},
   "source": [
    "#### Pipeline Execution"
   ]
  },
  {
   "cell_type": "code",
   "execution_count": 153,
   "metadata": {},
   "outputs": [
    {
     "name": "stdout",
     "output_type": "stream",
     "text": [
      "{}\n",
      "Retrieved 7777 tweets\n"
     ]
    },
    {
     "data": {
      "text/plain": [
       "<pymongo.results.InsertManyResult at 0x19973908>"
      ]
     },
     "execution_count": 153,
     "metadata": {},
     "output_type": "execute_result"
    }
   ],
   "source": [
    "import pymongo\n",
    "import nbimporter\n",
    "from TweetParser.TweetParser import TweetParser #http://www.cs.cmu.edu/~ark/TweetNLP/\n",
    "\n",
    "client=pymongo.MongoClient()#senza parametri si connette a localhost.\n",
    "\n",
    "db=client['inforet']#prendo il db, se non c'è lo crea\n",
    "\n",
    "col = db['rumors_entity_cmu']\n",
    "\n",
    "### RETRIEVAL\n",
    "p = []\n",
    "p.append({'$match':{'languages':'en'}})\n",
    "\n",
    "selection = {}\n",
    "#selection = {'rumor': { '$in': ['michelle','airfrance','palin']}}\n",
    "print selection\n",
    "p.append({'$match': selection})\n",
    "\n",
    "tweets = []\n",
    "entities = []\n",
    "for record in col.aggregate(p): # col.find(selection):\n",
    "    tweets.append(record)\n",
    "    entities.append(record['entities'])\n",
    "\n",
    "print \"Retrieved \" + str(len(entities)) + \" tweets\"\n",
    "\n",
    "remove_stopwords(entities)\n",
    "keep_only_entities_of_type(entities,[ 'N','^','S','Z','A','#','$'])\n",
    "\n",
    "### INSERT IN DB AS NEW COLLECTION\n",
    "for i in range(len(tweets)):\n",
    "    tweets[i]['entities'] = entities[i]\n",
    "db[\"rumors_entity_cmu_filtered\"].drop()\n",
    "col = db[\"rumors_entity_cmu_filtered\"]\n",
    "col.insert_many(tweets)"
   ]
  },
  {
   "cell_type": "markdown",
   "metadata": {},
   "source": [
    "### Tracker"
   ]
  },
  {
   "cell_type": "code",
   "execution_count": 2,
   "metadata": {
    "scrolled": true
   },
   "outputs": [],
   "source": [
    "import nbimporter\n",
    "from Tracker import Tracker"
   ]
  },
  {
   "cell_type": "markdown",
   "metadata": {},
   "source": [
    "## Cluster"
   ]
  },
  {
   "cell_type": "code",
   "execution_count": 3,
   "metadata": {},
   "outputs": [],
   "source": [
    "import nbimporter\n",
    "from Tracker import Cluster"
   ]
  },
  {
   "cell_type": "code",
   "execution_count": 4,
   "metadata": {},
   "outputs": [],
   "source": [
    "jd = Tracker('inforet','rumors_entity_cmu_filtered',decay_window=24,similarity_threshold= 0.3)"
   ]
  },
  {
   "cell_type": "code",
   "execution_count": 5,
   "metadata": {
    "scrolled": false
   },
   "outputs": [
    {
     "name": "stdout",
     "output_type": "stream",
     "text": [
      "60\n",
      "200\n",
      "10\n",
      "1.5\n",
      "24\n",
      "80\n",
      "[]\n"
     ]
    }
   ],
   "source": [
    "print jd.window_size\n",
    "print jd.update_for_first_k\n",
    "print jd.update_for_every_n\n",
    "print jd.hashtag_boost\n",
    "print jd.decay_window\n",
    "#print jd.decay_factor_T\n",
    "print jd.clear_under_percentile\n",
    "#print jd.icfs\n",
    "print jd.clusters"
   ]
  },
  {
   "cell_type": "code",
   "execution_count": null,
   "metadata": {
    "scrolled": true
   },
   "outputs": [],
   "source": [
    "import datetime\n",
    "\n",
    "a = datetime.datetime.now()\n",
    "print \"start \", a\n",
    "\n",
    "jd.clusterize(use_decay=True)#True)\n",
    "b = datetime.datetime.now()\n",
    "\n",
    "print \"end \", b\n",
    "print \"delta\", b-a"
   ]
  },
  {
   "cell_type": "code",
   "execution_count": 7,
   "metadata": {
    "scrolled": true
   },
   "outputs": [
    {
     "name": "stdout",
     "output_type": "stream",
     "text": [
      "929\n",
      "0\n"
     ]
    }
   ],
   "source": [
    "print len(jd.clusters)\n",
    "print len(jd.discarded)"
   ]
  },
  {
   "cell_type": "code",
   "execution_count": 8,
   "metadata": {
    "scrolled": true
   },
   "outputs": [
    {
     "data": {
      "text/plain": [
       "(9L, 1L)"
      ]
     },
     "execution_count": 8,
     "metadata": {},
     "output_type": "execute_result"
    }
   ],
   "source": [
    "cl = jd.clusters[2]\n",
    "cl.M.shape"
   ]
  },
  {
   "cell_type": "markdown",
   "metadata": {},
   "source": [
    "# Analisi Risultati"
   ]
  },
  {
   "cell_type": "code",
   "execution_count": 9,
   "metadata": {
    "scrolled": true
   },
   "outputs": [
    {
     "name": "stdout",
     "output_type": "stream",
     "text": [
      "8.371367061356297\n",
      "528\n",
      "1\n",
      "19.0\n",
      "2.0\n"
     ]
    }
   ],
   "source": [
    "cl_lens = [len(c.tweets) for c in jd.clusters]\n",
    "import numpy as np\n",
    "print np.mean(cl_lens)\n",
    "print np.max(cl_lens)\n",
    "print np.min(cl_lens)\n",
    "print np.percentile(cl_lens,90)\n",
    "print np.median(cl_lens)\n",
    "#print np.var(cl_lens)"
   ]
  },
  {
   "cell_type": "markdown",
   "metadata": {},
   "source": [
    " ### Clusters size\n"
   ]
  },
  {
   "cell_type": "code",
   "execution_count": 10,
   "metadata": {},
   "outputs": [],
   "source": [
    "degree_sample = cl_lens"
   ]
  },
  {
   "cell_type": "code",
   "execution_count": 11,
   "metadata": {},
   "outputs": [
    {
     "data": {
      "text/plain": [
       "1.0000000000000007"
      ]
     },
     "execution_count": 11,
     "metadata": {},
     "output_type": "execute_result"
    }
   ],
   "source": [
    "# np.arange(min_t,max_t+1) #Perchè +1? perchè vengono generati valori fino a max_t, max t escluso\n",
    "# +2 perchè altrimenti unisce gli ultimi due intervalli\n",
    "count_people, bins_people = np.histogram(degree_sample,np.arange(np.min(degree_sample),np.max(degree_sample)+2))\n",
    "\n",
    "pdf_people = count_people/float(len(degree_sample))\n",
    "#print pdf_people\n",
    "sum(pdf_people)"
   ]
  },
  {
   "cell_type": "code",
   "execution_count": 12,
   "metadata": {},
   "outputs": [],
   "source": [
    "import matplotlib.pyplot as plt\n",
    "%matplotlib inline"
   ]
  },
  {
   "cell_type": "code",
   "execution_count": 13,
   "metadata": {
    "scrolled": true
   },
   "outputs": [
    {
     "data": {
      "text/plain": [
       "Text(0,0.5,'PDF')"
      ]
     },
     "execution_count": 13,
     "metadata": {},
     "output_type": "execute_result"
    },
    {
     "data": {
      "image/png": "[encoded data removed]",
      "text/plain": [
       "<Figure size 1152x648 with 1 Axes>"
      ]
     },
     "metadata": {},
     "output_type": "display_data"
    }
   ],
   "source": [
    "fig = plt.figure(figsize=(16,9)) #è la dimensione del grafico\n",
    "assi = fig.gca()\n",
    "assi.plot(bins_people[:-1],pdf_people,color='orange',marker='o',linestyle='None', ms = 7)\n",
    "assi.set_xlabel('Cluster size',size=30)\n",
    "assi.set_ylabel('PDF',size=30)\n",
    "#fig.savefig('/Users/Cheick/Desktop/pdf_2k.png', dpi=300)"
   ]
  },
  {
   "cell_type": "code",
   "execution_count": 14,
   "metadata": {
    "scrolled": true
   },
   "outputs": [
    {
     "data": {
      "text/plain": [
       "Text(0,0.5,'CDF')"
      ]
     },
     "execution_count": 14,
     "metadata": {},
     "output_type": "execute_result"
    },
    {
     "data": {
      "image/png": "[encoded data removed]",
      "text/plain": [
       "<Figure size 1152x648 with 1 Axes>"
      ]
     },
     "metadata": {},
     "output_type": "display_data"
    }
   ],
   "source": [
    "cdf_people = np.cumsum(pdf_people)\n",
    "fig = plt.figure(figsize=(16,9))\n",
    "assi = fig.gca()\n",
    "assi.plot(bins_people[:-1],cdf_people,color='orange',marker='o',linestyle='None', ms = 7)#linestyle='--'\n",
    "assi.set_xlabel('Cluster size',size=30)\n",
    "assi.set_ylabel('CDF',size=30)\n",
    "#fig.savefig('/Users/Cheick/Desktop/cdf_2k.png', dpi=300)"
   ]
  },
  {
   "cell_type": "markdown",
   "metadata": {},
   "source": [
    "### Cluster_size_threshold"
   ]
  },
  {
   "cell_type": "code",
   "execution_count": 15,
   "metadata": {},
   "outputs": [],
   "source": [
    "cluster_size_threshold = np.percentile(cl_lens,90)"
   ]
  },
  {
   "cell_type": "code",
   "execution_count": 16,
   "metadata": {},
   "outputs": [
    {
     "name": "stdout",
     "output_type": "stream",
     "text": [
      "94\n",
      "835\n"
     ]
    }
   ],
   "source": [
    "x = [cl for cl in jd.clusters if len(cl.tweets) >= cluster_size_threshold]\n",
    "y = [cl for cl in jd.clusters if len(cl.tweets) < cluster_size_threshold]\n",
    "print len(x)\n",
    "print len(y)"
   ]
  },
  {
   "cell_type": "markdown",
   "metadata": {},
   "source": [
    "### Cluster vs rumors"
   ]
  },
  {
   "cell_type": "markdown",
   "metadata": {},
   "source": [
    "Plot usando stacked bars"
   ]
  },
  {
   "cell_type": "code",
   "execution_count": 17,
   "metadata": {},
   "outputs": [],
   "source": [
    "from collections import Counter\n",
    "perc = {}\n",
    "clusters_over_100 =  [(i,cl) for i,cl in enumerate(jd.clusters) if len(cl.tweets) >= cluster_size_threshold]\n",
    "#print a[0]\n",
    "for el in clusters_over_100:\n",
    "    i = el[0]\n",
    "    cl = el[1]\n",
    "    c = Counter()\n",
    "    for t in cl.tweets:\n",
    "        c.update({t['rumor']:1})\n",
    "    perc[i] = c"
   ]
  },
  {
   "cell_type": "markdown",
   "metadata": {},
   "source": [
    "https://matplotlib.org/gallery/lines_bars_and_markers/bar_stacked.html"
   ]
  },
  {
   "cell_type": "code",
   "execution_count": 18,
   "metadata": {
    "scrolled": true
   },
   "outputs": [
    {
     "name": "stdout",
     "output_type": "stream",
     "text": [
      "obama\n",
      "michelle\n",
      "airfrance\n",
      "palin\n",
      "cell\n"
     ]
    },
    {
     "data": {
      "image/png": "[encoded data removed]",
      "text/plain": [
       "<Figure size 1152x648 with 1 Axes>"
      ]
     },
     "metadata": {},
     "output_type": "display_data"
    }
   ],
   "source": [
    "import numpy as np\n",
    "import matplotlib.pyplot as plt\n",
    "\n",
    "cluster_numbers = { }\n",
    "rumors=['obama' , 'michelle' ,'airfrance','palin','cell']\n",
    "\n",
    "previous = np.array(len(perc.keys()))\n",
    "previous = [0 for x in perc.keys()]\n",
    "#previous = [0,0,0,0,0,0,0]\n",
    "plots = []\n",
    "ind = np.arange(len(perc.keys()))\n",
    "width = 0.1 #len(perc.keys()) # the width of the bars: can also be len(x) sequence\n",
    "\n",
    "fig = plt.figure(figsize=(16,9)) #è la dimensione del grafico\n",
    "assi = fig.gca()\n",
    "\n",
    "for r in rumors:\n",
    "    print r\n",
    "    means = []\n",
    "    for k in perc.keys():\n",
    "        #print k\n",
    "        #print r\n",
    "        #print perc[k][r]\n",
    "        means.append(perc[k][r])\n",
    "        #print womenMeans\n",
    "    #print womenMeans \n",
    "    p = assi.bar(ind, means, width, bottom=previous)\n",
    "    previous = means\n",
    "    plots.append((p,r))\n",
    "\n",
    "plt.ylabel('Tweets')\n",
    "#plt.title('Scores by group and gender')\n",
    "plt.xticks(ind, perc.keys())\n",
    "plt.xlabel('Clusters')\n",
    "#plt.yticks(np.arange(0, 81, 10))\n",
    "plt.legend([x[0] for x in plots], [x[1] for x in plots])\n",
    "plt.show()"
   ]
  },
  {
   "cell_type": "code",
   "execution_count": 19,
   "metadata": {},
   "outputs": [],
   "source": [
    "dates = {\n",
    "    'obama':[],\n",
    "    'michelle':[],\n",
    "    'cell':[],\n",
    "    'palin':[],\n",
    "    'airfrance':[]\n",
    "}\n",
    "for tweet in [t  for cl in jd.clusters for t in cl.tweets]:\n",
    "    dates[tweet['rumor']].append(tweet['date'].date()) "
   ]
  },
  {
   "cell_type": "code",
   "execution_count": 20,
   "metadata": {},
   "outputs": [],
   "source": [
    "from collections import Counter\n",
    "c = Counter\n",
    "\n",
    "c_dates= {\n",
    "    'obama':[],\n",
    "    'michelle':[],\n",
    "    'cell':[],\n",
    "    'palin':[],\n",
    "    'airfrance':[]\n",
    "}\n",
    "\n",
    "from collections import OrderedDict\n",
    "import datetime\n",
    "\n",
    "for rumor in dates.keys():\n",
    "    \n",
    "    odct = OrderedDict()\n",
    "    for item in dates[rumor]:\n",
    "        try:\n",
    "            odct[item] += 1\n",
    "        except KeyError:\n",
    "            odct[item] = 1\n",
    "            \n",
    "    c_dates[rumor] = odct\n",
    "\n",
    "#print [(item, dates['cell'].count(item)) for item in list(OrderedDict.fromkeys(dates['cell']))]"
   ]
  },
  {
   "cell_type": "code",
   "execution_count": 21,
   "metadata": {},
   "outputs": [],
   "source": [
    "import matplotlib.pyplot as plt\n",
    "import matplotlib.dates\n",
    "import numpy as np\n",
    "%matplotlib inline"
   ]
  },
  {
   "cell_type": "code",
   "execution_count": 22,
   "metadata": {
    "scrolled": true
   },
   "outputs": [
    {
     "data": {
      "image/png": "[encoded data removed]",
      "text/plain": [
       "<Figure size 1152x648 with 1 Axes>"
      ]
     },
     "metadata": {},
     "output_type": "display_data"
    }
   ],
   "source": [
    "fig = plt.figure(figsize=(16,9)) #è la dimensione del grafico\n",
    "assi = fig.gca()\n",
    "colors = ['blue','orange','red','green','gray']\n",
    "for i,rumor in enumerate(c_dates.keys()):\n",
    "    assi.plot([d for d in c_dates[rumor].keys()],[v for v in c_dates[rumor].values() ],color=colors[i],marker='o',linestyle='-', ms = 7, label= rumor)\n",
    "\n",
    "assi.set_xlabel('Date',size=25)\n",
    "assi.set_ylabel('Volume',size=25)\n",
    "legend = assi.legend(loc='upper center', shadow=True)\n",
    "plt.gcf().autofmt_xdate()\n",
    "#fig.savefig('/Users/Cheick/Desktop/pdf_2k.png', dpi=300)"
   ]
  },
  {
   "cell_type": "markdown",
   "metadata": {},
   "source": [
    "### Visualizziamo per cluster"
   ]
  },
  {
   "cell_type": "code",
   "execution_count": 23,
   "metadata": {},
   "outputs": [],
   "source": [
    "dates_cluster = {c.cluster_index:[] for c in jd.clusters}\n",
    "\n",
    "for k in dates_cluster:\n",
    "    for tweet in jd.clusters[k].tweets:\n",
    "        dates_cluster[k].append(tweet['date'].date())\n",
    "    "
   ]
  },
  {
   "cell_type": "code",
   "execution_count": 24,
   "metadata": {
    "scrolled": true
   },
   "outputs": [],
   "source": [
    "from collections import Counter\n",
    "c = Counter\n",
    "\n",
    "c_dates_cluster = {c.cluster_index:[] for c in jd.clusters}\n",
    "\n",
    "from collections import OrderedDict\n",
    "import datetime\n",
    "\n",
    "for cl in c_dates_cluster.keys():\n",
    "    #print cl\n",
    "    odct = OrderedDict()\n",
    "    for item in dates_cluster[cl]:\n",
    "        try:\n",
    "            odct[item] += 1\n",
    "        except KeyError:\n",
    "            odct[item] = 1\n",
    "            \n",
    "    c_dates_cluster[cl] = odct"
   ]
  },
  {
   "cell_type": "code",
   "execution_count": 25,
   "metadata": {
    "scrolled": true
   },
   "outputs": [
    {
     "data": {
      "image/png": "[encoded data removed]",
      "text/plain": [
       "<Figure size 1152x648 with 1 Axes>"
      ]
     },
     "metadata": {},
     "output_type": "display_data"
    }
   ],
   "source": [
    "fig = plt.figure(figsize=(16,9)) #è la dimensione del grafico\n",
    "assi = fig.gca()\n",
    "\n",
    "colors = [np.random.rand(3,) for c in jd.clusters]\n",
    "\n",
    "for i,cl in enumerate(c_dates_cluster.keys()):\n",
    "    assi.plot([d for d in c_dates_cluster[cl].keys()],[v for v in c_dates_cluster[cl].values() ],color=colors[i],marker='o',linestyle='-', ms = 7)#, label= cl)\n",
    "\n",
    "assi.set_xlabel('Date',size=25)\n",
    "assi.set_ylabel('Volume',size=25)\n",
    "#legend = assi.legend(loc='upper center', shadow=True)\n",
    "plt.gcf().autofmt_xdate()\n",
    "#fig.savefig('/Users/Cheick/Desktop/pdf_2k.png', dpi=300)"
   ]
  },
  {
   "cell_type": "markdown",
   "metadata": {},
   "source": [
    "### Visualizziamo a livello temporale solo i clusteri più grandi"
   ]
  },
  {
   "cell_type": "code",
   "execution_count": 26,
   "metadata": {},
   "outputs": [],
   "source": [
    "dates_cluster = {c.cluster_index:[] for c in jd.clusters if len(c.tweets)>cluster_size_threshold}\n",
    "\n",
    "for k in dates_cluster:\n",
    "    for tweet in jd.clusters[k].tweets:\n",
    "        dates_cluster[k].append(tweet['date'].date())    "
   ]
  },
  {
   "cell_type": "code",
   "execution_count": 27,
   "metadata": {
    "scrolled": true
   },
   "outputs": [],
   "source": [
    "from collections import Counter\n",
    "c = Counter\n",
    "\n",
    "c_dates_cluster = {c.cluster_index:[] for c in jd.clusters if len(c.tweets)>cluster_size_threshold}\n",
    "\n",
    "from collections import OrderedDict\n",
    "import datetime\n",
    "\n",
    "for cl in c_dates_cluster.keys():\n",
    "    #print cl\n",
    "    odct = OrderedDict()\n",
    "    for item in dates_cluster[cl]:\n",
    "        try:\n",
    "            odct[item] += 1\n",
    "        except KeyError:\n",
    "            odct[item] = 1\n",
    "            \n",
    "    c_dates_cluster[cl] = odct\n",
    "\n",
    "#print [(item, dates['cell'].count(item)) for item in list(OrderedDict.fromkeys(dates['cell']))]"
   ]
  },
  {
   "cell_type": "code",
   "execution_count": 28,
   "metadata": {
    "scrolled": true
   },
   "outputs": [
    {
     "data": {
      "image/png": "[encoded data removed]",
      "text/plain": [
       "<Figure size 1152x648 with 1 Axes>"
      ]
     },
     "metadata": {},
     "output_type": "display_data"
    }
   ],
   "source": [
    "fig = plt.figure(figsize=(16,9)) #è la dimensione del grafico\n",
    "assi = fig.gca()\n",
    "\n",
    "colors = [np.random.rand(3,) for c in jd.clusters]\n",
    "\n",
    "for i,cl in enumerate(c_dates_cluster.keys()):\n",
    "    assi.plot([d for d in c_dates_cluster[cl].keys()],[v for v in c_dates_cluster[cl].values() ],color=colors[i],marker='o',linestyle='-', ms = 7)#, label= cl)\n",
    "\n",
    "assi.set_xlabel('Date',size=25)\n",
    "assi.set_ylabel('Volume',size=25)\n",
    "#legend = assi.legend(loc='upper center', shadow=True)\n",
    "plt.gcf().autofmt_xdate()\n",
    "#fig.savefig('/Users/Cheick/Desktop/pdf_2k.png', dpi=300)"
   ]
  },
  {
   "cell_type": "markdown",
   "metadata": {},
   "source": [
    "### Sim distribution"
   ]
  },
  {
   "cell_type": "markdown",
   "metadata": {},
   "source": [
    "#### Nota\n",
    "Bisogna tener conto del fatto che se un tweet viene analizzato quando non ci sono cluster attivi, ne inizia uno nuovo. Di default indichiamo con sim == 0.0 "
   ]
  },
  {
   "cell_type": "code",
   "execution_count": 29,
   "metadata": {},
   "outputs": [
    {
     "name": "stdout",
     "output_type": "stream",
     "text": [
      "len 7777\n",
      "0.5896827951908845\n",
      "1.0\n",
      "0.0\n",
      "0.8009965811024257\n",
      "0.5916118380592673\n"
     ]
    }
   ],
   "source": [
    "cl_lens = [ t['sim'] for cl in jd.clusters for t in cl.tweets ]\n",
    "print \"len\", len(cl_lens)\n",
    "print np.mean(cl_lens)\n",
    "print np.max(cl_lens)\n",
    "print np.min(cl_lens)\n",
    "print np.percentile(cl_lens,75)\n",
    "print np.median(cl_lens)"
   ]
  },
  {
   "cell_type": "code",
   "execution_count": 30,
   "metadata": {},
   "outputs": [],
   "source": [
    "import matplotlib.pyplot as plt\n",
    "%matplotlib inline"
   ]
  },
  {
   "cell_type": "code",
   "execution_count": 31,
   "metadata": {
    "scrolled": true
   },
   "outputs": [
    {
     "data": {
      "text/plain": [
       "Text(0,0.5,'Value')"
      ]
     },
     "execution_count": 31,
     "metadata": {},
     "output_type": "execute_result"
    },
    {
     "data": {
      "image/png": "[encoded data removed]",
      "text/plain": [
       "<Figure size 1152x648 with 1 Axes>"
      ]
     },
     "metadata": {},
     "output_type": "display_data"
    }
   ],
   "source": [
    "fig = plt.figure(figsize=(16,9)) #è la dimensione del grafico\n",
    "assi = fig.gca()\n",
    "assi.plot([i for i in range(100)],[np.percentile(cl_lens,i) for i in range(100)],color='orange',marker='o',linestyle='None', ms = 7)\n",
    "assi.set_xlabel('Percentile',size=30)\n",
    "assi.set_ylabel('Value',size=30)\n",
    "#fig.savefig('/Users/Cheick/Desktop/pdf_2k.png', dpi=300)"
   ]
  },
  {
   "cell_type": "code",
   "execution_count": 32,
   "metadata": {
    "scrolled": true
   },
   "outputs": [
    {
     "name": "stdout",
     "output_type": "stream",
     "text": [
      "94\n",
      "835\n"
     ]
    }
   ],
   "source": [
    "x = [cl for cl in jd.clusters if len(cl.tweets) >= cluster_size_threshold]\n",
    "y = [cl for cl in jd.clusters if len(cl.tweets) < cluster_size_threshold]\n",
    "print len(x)\n",
    "print len(y)"
   ]
  },
  {
   "cell_type": "markdown",
   "metadata": {},
   "source": [
    "def get_labels(self, cluster_size_gte= 100):\n",
    "        #gt: ground truth rumor di appartenenza\n",
    "        gt_labels=[]\n",
    "        pred_labels=[]\n",
    "        gt_relev_labels = []\n",
    "\n",
    "        for i, cl in enumerate(self.clusters):\n",
    "            if len(cl.tweets)<cluster_size_gte :\n",
    "                continue\n",
    "\n",
    "            for t in cl.tweets:\n",
    "                gt_labels.append(t['rumor'])\n",
    "                pred_labels.append(i)\n",
    "                if t['label'] in ['11','12','13','14']:\n",
    "                     gt_relev_labels.append(1)\n",
    "                else:\n",
    "                    gt_relev_labels.append(int(t['label']))\n",
    "        # es: t in cluster 0: (0, obama). Con purity cerco di capire se la mggioranza di label nel cluster 0 è obama o altro\n",
    "        d = {}\n",
    "        for i,e in enumerate(set(gt_labels)):\n",
    "            d[e]=i\n",
    "        gt_labels_numeric = [d[k] for k in gt_labels ]\n",
    "        \n",
    "        return gt_labels, pred_labels, gt_relev_labels, gt_labels_numeric"
   ]
  },
  {
   "cell_type": "markdown",
   "metadata": {},
   "source": [
    "### Coverage\n",
    "Coverage signifies what proportion of all tweets found\n",
    "their way into our selectioned clusters which have more than cluster_size_threshold\n",
    "tweets."
   ]
  },
  {
   "cell_type": "code",
   "execution_count": 33,
   "metadata": {},
   "outputs": [
    {
     "name": "stdout",
     "output_type": "stream",
     "text": [
      "5364\n",
      "7777\n",
      "0.689726115469\n"
     ]
    }
   ],
   "source": [
    "x = sum([len(cl.tweets) for cl in jd.clusters if len(cl.tweets) >= cluster_size_threshold])\n",
    "print x\n",
    "tot = sum([len(cl.tweets) for cl in jd.clusters])\n",
    "print tot\n",
    "try:\n",
    "    print float(x)/tot\n",
    "except:\n",
    "    print \"No cluster over zero\""
   ]
  },
  {
   "cell_type": "markdown",
   "metadata": {},
   "source": [
    "### Purity\n",
    "Purity of the clusters measures how many tweets in a cluster,\n",
    "should actually be in the same cluster.\n",
    "\n",
    "Purity is a measure of the extent to which clusters contain a single class. Its calculation can be thought of as follows: For each cluster, count the number of data points from the most common class in said cluster. Now take the sum over all clusters and divide by the total number of data points. \n",
    "\n",
    "Note that this measure doesn't penalize having many clusters. So for example, a purity score of 1 is possible by putting each data point in its own cluster. Also purity doesn't work well for imbalanced data: if a size 1000 dataset consists of two classes, one class contains 999 points and the other has only 1 point. No matter how bad a clustering algorithm performs, it will always give a very high purity value.\n",
    "\n",
    "https://stackoverflow.com/questions/44302824/compute-centroid-and-accuracy"
   ]
  },
  {
   "cell_type": "code",
   "execution_count": 34,
   "metadata": {},
   "outputs": [],
   "source": [
    "def compute_cluster_purity(gt_labels, pred_labels):\n",
    "    \"\"\"\n",
    "    Compute purity of predicted labels (pred_labels), given \n",
    "    the ground-truth labels (gt_labels).\n",
    "\n",
    "    Assuming gt_labels and pred_labels are both lists of int of length n\n",
    "    \"\"\"\n",
    "    n = len(gt_labels) # number of elements\n",
    "    \n",
    "    if n == 0:\n",
    "        print \"No labels in ground truth were given\"\n",
    "        return 0.0\n",
    "    \n",
    "    assert len(pred_labels) == n\n",
    "    purity = 0\n",
    "    for l in set(pred_labels):\n",
    "    # for predicted label l, what are the gt_labels of this cluster?\n",
    "        gt = [gt_labels[i] for i, il in enumerate(pred_labels) if il==l]\n",
    "        # most frequent gt label in this cluster:\n",
    "        mfgt = max(set(gt), key=gt.count)\n",
    "        purity += gt.count(mfgt) # count intersection between most frequent ground truth and this cluster\n",
    "    \n",
    "    return float(purity)/n"
   ]
  },
  {
   "cell_type": "code",
   "execution_count": 35,
   "metadata": {},
   "outputs": [],
   "source": [
    "gt_labels, pred_labels, gt_relev_labels, gt_labels_numeric = jd.get_labels(cluster_size_gte = cluster_size_threshold)"
   ]
  },
  {
   "cell_type": "markdown",
   "metadata": {},
   "source": [
    "#### Purity della separazione dei rumors"
   ]
  },
  {
   "cell_type": "code",
   "execution_count": 36,
   "metadata": {
    "scrolled": false
   },
   "outputs": [
    {
     "data": {
      "text/plain": [
       "0.9958985831469053"
      ]
     },
     "execution_count": 36,
     "metadata": {},
     "output_type": "execute_result"
    }
   ],
   "source": [
    "compute_cluster_purity(gt_labels, pred_labels)"
   ]
  },
  {
   "cell_type": "markdown",
   "metadata": {},
   "source": [
    "#### Purity della separazione tra rilevanti e non rilevanti"
   ]
  },
  {
   "cell_type": "code",
   "execution_count": 37,
   "metadata": {
    "scrolled": true
   },
   "outputs": [
    {
     "data": {
      "text/plain": [
       "0.947800149142431"
      ]
     },
     "execution_count": 37,
     "metadata": {},
     "output_type": "execute_result"
    }
   ],
   "source": [
    "compute_cluster_purity(gt_relev_labels, pred_labels)"
   ]
  },
  {
   "cell_type": "markdown",
   "metadata": {},
   "source": [
    "### Rand Coefficient"
   ]
  },
  {
   "cell_type": "markdown",
   "metadata": {},
   "source": [
    "https://stackoverflow.com/a/49586743\n",
    "\n",
    "https://stats.stackexchange.com/questions/89030/rand-index-calculation"
   ]
  },
  {
   "cell_type": "code",
   "execution_count": 38,
   "metadata": {},
   "outputs": [],
   "source": [
    "import numpy as np\n",
    "from scipy.special import comb\n",
    "def rand_index_score(clusters, classes):\n",
    "    tp_plus_fp = comb(np.bincount(clusters), 2).sum()\n",
    "    tp_plus_fn = comb(np.bincount(classes), 2).sum()\n",
    "    A = np.c_[(clusters, classes)]\n",
    "    tp = sum(comb(np.bincount(A[A[:, 0] == i, 1]), 2).sum()\n",
    "             for i in set(clusters))\n",
    "    fp = tp_plus_fp - tp\n",
    "    fn = tp_plus_fn - tp\n",
    "    tn = comb(len(A), 2) - tp - fp - fn\n",
    "    return (tp + tn) / (tp + fp + fn + tn)"
   ]
  },
  {
   "cell_type": "code",
   "execution_count": 39,
   "metadata": {
    "scrolled": false
   },
   "outputs": [
    {
     "data": {
      "text/plain": [
       "0.7142857142857143"
      ]
     },
     "execution_count": 39,
     "metadata": {},
     "output_type": "execute_result"
    }
   ],
   "source": [
    "#As a simple example:\n",
    "labels_true = [1, 1, 0, 0, 0, 0,2,2]\n",
    "labels_pred = [0, 0, 0, 1, 0, 1,2,2]\n",
    "rand_index_score (labels_true, labels_pred)\n",
    "#0.46666666666666667"
   ]
  },
  {
   "cell_type": "markdown",
   "metadata": {
    "scrolled": true
   },
   "source": [
    "d = {}\n",
    "for i,e in enumerate(set(gt_labels)):\n",
    "    #print i\n",
    "    d[e]=i\n",
    "print d\n",
    "gt_labels_numeric = [d[k] for k in gt_labels ]\n",
    "#print gt_labels_numeric\n",
    "print len(gt_labels_numeric)"
   ]
  },
  {
   "cell_type": "code",
   "execution_count": 40,
   "metadata": {
    "scrolled": true
   },
   "outputs": [
    {
     "data": {
      "text/plain": [
       "0.49541629662630254"
      ]
     },
     "execution_count": 40,
     "metadata": {},
     "output_type": "execute_result"
    }
   ],
   "source": [
    "rand_index_score (gt_labels_numeric , pred_labels)"
   ]
  },
  {
   "cell_type": "code",
   "execution_count": 41,
   "metadata": {},
   "outputs": [
    {
     "data": {
      "text/plain": [
       "0.3461065913696228"
      ]
     },
     "execution_count": 41,
     "metadata": {},
     "output_type": "execute_result"
    }
   ],
   "source": [
    "rand_index_score (gt_relev_labels , pred_labels)"
   ]
  },
  {
   "cell_type": "markdown",
   "metadata": {},
   "source": [
    "### F Score\n",
    "The F-score is a weighted average of\n",
    "recall and precision. To calculate precision, we took into account\n",
    "false positives, as the irrelevant tweets included in the cluster. To\n",
    "calculate recall, we considered all the false negatives, as the relevant\n",
    "tweets which were not included in the correct cluster. The\n",
    "average F-score"
   ]
  },
  {
   "cell_type": "code",
   "execution_count": 42,
   "metadata": {},
   "outputs": [],
   "source": [
    "import numpy as np\n",
    "from scipy.special import comb\n",
    "def get_tp_fp_fn_tn(clusters, classes):\n",
    "    tp_plus_fp = comb(np.bincount(clusters), 2).sum()\n",
    "    tp_plus_fn = comb(np.bincount(classes), 2).sum()\n",
    "    A = np.c_[(clusters, classes)]\n",
    "    tp = sum(comb(np.bincount(A[A[:, 0] == i, 1]), 2).sum()\n",
    "             for i in set(clusters))\n",
    "    fp = tp_plus_fp - tp\n",
    "    fn = tp_plus_fn - tp\n",
    "    tn = comb(len(A), 2) - tp - fp - fn\n",
    "    return tp, fp , fn ,tn"
   ]
  },
  {
   "cell_type": "code",
   "execution_count": 43,
   "metadata": {},
   "outputs": [],
   "source": [
    "tp,fp,fn,tn=get_tp_fp_fn_tn(gt_labels_numeric , pred_labels)"
   ]
  },
  {
   "cell_type": "markdown",
   "metadata": {},
   "source": [
    "#### Prec recall cluster"
   ]
  },
  {
   "cell_type": "code",
   "execution_count": 44,
   "metadata": {},
   "outputs": [
    {
     "name": "stdout",
     "output_type": "stream",
     "text": [
      "0.993855584487888 0.04510813610497344\n"
     ]
    }
   ],
   "source": [
    "rec = tp/(tp + fn)\n",
    "prec = tp/(tp+fp)\n",
    "print rec, prec"
   ]
  },
  {
   "cell_type": "code",
   "execution_count": 45,
   "metadata": {},
   "outputs": [
    {
     "name": "stdout",
     "output_type": "stream",
     "text": [
      "0.08629940022965535\n"
     ]
    }
   ],
   "source": [
    "fscore = 2 * (prec * rec )/( prec + rec ) \n",
    "#in alternativa sklearn.metrics.f1_score(y_true, y_pred); formula è cmq F1 = 2 * (precision * recall) / (precision + recall)\n",
    "print fscore"
   ]
  },
  {
   "cell_type": "markdown",
   "metadata": {},
   "source": [
    "#### Prec recall relevance"
   ]
  },
  {
   "cell_type": "code",
   "execution_count": 46,
   "metadata": {},
   "outputs": [],
   "source": [
    "tp,fp,fn,tn=get_tp_fp_fn_tn(gt_relev_labels , pred_labels)"
   ]
  },
  {
   "cell_type": "code",
   "execution_count": 47,
   "metadata": {},
   "outputs": [
    {
     "name": "stdout",
     "output_type": "stream",
     "text": [
      "0.9657548149136186 0.03424189320690295\n"
     ]
    }
   ],
   "source": [
    "rec = tp/(tp + fn)\n",
    "prec = tp/(tp+fp)\n",
    "print rec, prec"
   ]
  },
  {
   "cell_type": "code",
   "execution_count": 48,
   "metadata": {},
   "outputs": [
    {
     "name": "stdout",
     "output_type": "stream",
     "text": [
      "0.06613876419348948\n"
     ]
    }
   ],
   "source": [
    "fscore = 2 * (prec * rec )/( prec + rec ) \n",
    "#in alternativa sklearn.metrics.f1_score(y_true, y_pred); formula è cmq F1 = 2 * (precision * recall) / (precision + recall)\n",
    "print fscore"
   ]
  },
  {
   "cell_type": "markdown",
   "metadata": {},
   "source": [
    "## All measures"
   ]
  },
  {
   "cell_type": "code",
   "execution_count": 49,
   "metadata": {},
   "outputs": [
    {
     "name": "stdout",
     "output_type": "stream",
     "text": [
      "Coverage: 0.689726115469\n",
      "Purity rumor 0.995898583147\n",
      "Purity relev 0.947800149142\n",
      "rand index rumor 0.49541629662630254\n",
      "rand index relev 0.3461065913696228\n",
      "recall 0.993855584487888 precision 0.04510813610497344\n",
      "fscore 0.08629940022965535\n",
      "recall 0.9657548149136186 precision 0.03424189320690295\n",
      "fscore 0.06613876419348948\n"
     ]
    }
   ],
   "source": [
    "# calculate evaluation metrics\n",
    "gt_labels, pred_labels, gt_relev_labels, gt_labels_numeric = jd.get_labels(cluster_size_gte = cluster_size_threshold)\n",
    "\n",
    "## COVERAGE\n",
    "print \"Coverage: \"+ str(jd.coverage(cluster_size_threshold=cluster_size_threshold))\n",
    "\n",
    "## PURITY\n",
    "print \"Purity rumor\", compute_cluster_purity(gt_labels, pred_labels)\n",
    "print \"Purity relev\", compute_cluster_purity(gt_relev_labels, pred_labels)\n",
    "\n",
    "\n",
    "#RAND\n",
    "#print \"Adjusted Rand index\", str(metrics.adjusted_rand_score(gt_labels, pred_labels))\n",
    "\n",
    "print \"rand index rumor\", rand_index_score (gt_labels_numeric , pred_labels)\n",
    "print \"rand index relev\", rand_index_score (gt_relev_labels , pred_labels)\n",
    "\n",
    "\n",
    "tp,fp,fn,tn = get_tp_fp_fn_tn(gt_labels_numeric , pred_labels)\n",
    "## PREC, RECALL\n",
    "rec = tp/(tp + fn)\n",
    "prec = tp/(tp+fp)\n",
    "print \"recall\", rec, \"precision\", prec\n",
    "# F-SCORE\n",
    "fscore = 2 * (prec * rec )/( prec + rec ) \n",
    "print \"fscore\",fscore\n",
    "\n",
    "tp,fp,fn,tn = get_tp_fp_fn_tn(gt_relev_labels , pred_labels)\n",
    "## PREC, RECALL\n",
    "rec = tp/(tp + fn)\n",
    "prec = tp/(tp+fp)\n",
    "print \"recall\", rec, \"precision\", prec\n",
    "# F-SCORE\n",
    "fscore = 2 * (prec * rec )/( prec + rec ) \n",
    "print \"fscore\",fscore"
   ]
  },
  {
   "cell_type": "code",
   "execution_count": 68,
   "metadata": {
    "scrolled": false
   },
   "outputs": [
    {
     "name": "stdout",
     "output_type": "stream",
     "text": [
      "Percentile 20 1.0\n",
      "# clusters 929\n",
      "Coverage:  1.0\n",
      "Purity rumor 0.996271055677\n",
      "Purity relev 0.927349877845\n",
      "rand index rumor 0.5970123798094095\n",
      "rand index relev 0.45345159515951594\n",
      "350052.0 12182991.0 2136.0 17701797.0\n",
      "recall 0.9939350574125183 precision 0.02793032785413726\n",
      "fscore 0.0543338338288231\n",
      "recall 0.9612962395084443 precision 0.02009133401029037\n",
      "fscore 0.0393600333893601\n",
      "7777\n",
      "----\n",
      "Percentile 30 1.0\n",
      "# clusters 929\n",
      "Coverage:  1.0\n",
      "Purity rumor 0.996271055677\n",
      "Purity relev 0.927349877845\n",
      "rand index rumor 0.5970123798094095\n",
      "rand index relev 0.45345159515951594\n",
      "350052.0 12182991.0 2136.0 17701797.0\n",
      "recall 0.9939350574125183 precision 0.02793032785413726\n",
      "fscore 0.0543338338288231\n",
      "recall 0.9612962395084443 precision 0.02009133401029037\n",
      "fscore 0.0393600333893601\n",
      "7777\n",
      "----\n",
      "Percentile 40 1.0\n",
      "# clusters 929\n",
      "Coverage:  1.0\n",
      "Purity rumor 0.996271055677\n",
      "Purity relev 0.927349877845\n",
      "rand index rumor 0.5970123798094095\n",
      "rand index relev 0.45345159515951594\n",
      "350052.0 12182991.0 2136.0 17701797.0\n",
      "recall 0.9939350574125183 precision 0.02793032785413726\n",
      "fscore 0.0543338338288231\n",
      "recall 0.9612962395084443 precision 0.02009133401029037\n",
      "fscore 0.0393600333893601\n",
      "7777\n",
      "----\n",
      "Percentile 50 2.0\n",
      "# clusters 473\n",
      "Coverage:  0.941365565128\n",
      "Purity rumor 0.996038792515\n",
      "Purity relev 0.922824750717\n",
      "rand index rumor 0.5784755733002523\n",
      "rand index relev 0.43614144653116305\n",
      "350052.0 11292552.0 2136.0 15150120.0\n",
      "recall 0.9939350574125183 precision 0.030066469666064397\n",
      "fscore 0.05836733142183708\n",
      "recall 0.9612962395084443 precision 0.021936591311449292\n",
      "fscore 0.042894342162568794\n",
      "7321\n",
      "----\n",
      "Percentile 60 2.0\n",
      "# clusters 473\n",
      "Coverage:  0.941365565128\n",
      "Purity rumor 0.996038792515\n",
      "Purity relev 0.922824750717\n",
      "rand index rumor 0.5784755733002523\n",
      "rand index relev 0.43614144653116305\n",
      "350052.0 11292552.0 2136.0 15150120.0\n",
      "recall 0.9939350574125183 precision 0.030066469666064397\n",
      "fscore 0.05836733142183708\n",
      "recall 0.9612962395084443 precision 0.021936591311449292\n",
      "fscore 0.042894342162568794\n",
      "7321\n",
      "----\n",
      "Percentile 70 3.0\n",
      "# clusters 330\n",
      "Coverage:  0.904590459046\n",
      "Purity rumor 0.996019900498\n",
      "Purity relev 0.923383084577\n",
      "rand index rumor 0.5663684906229647\n",
      "rand index relev 0.42173239574094273\n",
      "349910.0 10726817.0 2135.0 13663233.0\n",
      "recall 0.9939354343904898 precision 0.03158965640301508\n",
      "fscore 0.06123317535777248\n",
      "recall 0.961354372310358 precision 0.02312951400205585\n",
      "fscore 0.04517221607065252\n",
      "7035\n",
      "----\n",
      "Percentile 80 7.0\n",
      "# clusters 198\n",
      "Coverage:  0.836955124084\n",
      "Purity rumor 0.996620064526\n",
      "Purity relev 0.926870487018\n",
      "rand index rumor 0.5492940463599028\n",
      "rand index relev 0.39177256624391193\n",
      "349071.0 9543962.0 2119.0 11285134.0\n",
      "recall 0.9939662291067514 precision 0.035284528010772837\n",
      "fscore 0.0681498245401335\n",
      "recall 0.9618013041373615 precision 0.02557585714803846\n",
      "fscore 0.049826740426911646\n",
      "6509\n",
      "----\n",
      "Percentile 90 19.0\n",
      "# clusters 94\n",
      "Coverage:  0.689726115469\n",
      "Purity rumor 0.995898583147\n",
      "Purity relev 0.947800149142\n",
      "rand index rumor 0.49541629662630254\n",
      "rand index relev 0.3461065913696228\n",
      "342747.0 7255594.0 2119.0 6783106.0\n",
      "recall 0.993855584487888 precision 0.04510813610497344\n",
      "fscore 0.08629940022965535\n",
      "recall 0.9657548149136186 precision 0.03424189320690295\n",
      "fscore 0.06613876419348948\n",
      "5364\n",
      "----\n"
     ]
    }
   ],
   "source": [
    "# calculate evaluation metrics\n",
    "cl_lens = [len(c.tweets) for c in jd.clusters]\n",
    "\n",
    "for i in range(20,100,10):\n",
    "    cluster_size_threshold = np.percentile(cl_lens,i)\n",
    "    print \"Percentile\", i ,cluster_size_threshold\n",
    "    print \"# clusters\", sum([1 for cl in jd.clusters if len(cl.tweets) >= cluster_size_threshold])\n",
    "    \n",
    "    gt_labels, pred_labels, gt_relev_labels, gt_labels_numeric = jd.get_labels(cluster_size_gte = cluster_size_threshold)\n",
    "\n",
    "    ## COVERAGE\n",
    "    coverage = jd.coverage(cluster_size_threshold=cluster_size_threshold)\n",
    "    print \"Coverage: \", coverage\n",
    "\n",
    "    ## PURITY\n",
    "    print \"Purity rumor\", compute_cluster_purity(gt_labels, pred_labels)\n",
    "    print \"Purity relev\", compute_cluster_purity(gt_relev_labels, pred_labels)\n",
    "\n",
    "\n",
    "    #RAND\n",
    "    #print \"Adjusted Rand index\", str(metrics.adjusted_rand_score(gt_labels, pred_labels))\n",
    "\n",
    "    print \"rand index rumor\", rand_index_score (gt_labels_numeric , pred_labels)\n",
    "    print \"rand index relev\", rand_index_score (gt_relev_labels , pred_labels)\n",
    "\n",
    "\n",
    "    tp,fp,fn,tn = get_tp_fp_fn_tn(gt_labels_numeric , pred_labels)\n",
    "    ## PREC, RECALL\n",
    "    print tp,fp,fn,tn\n",
    "    rec = tp/(tp + fn)\n",
    "    prec = tp/(tp+fp)\n",
    "    print \"recall\", rec, \"precision\", prec\n",
    "    # F-SCORE\n",
    "    fscore = 2 * (prec * rec )/( prec + rec ) \n",
    "    print \"fscore\",fscore\n",
    "\n",
    "    tp,fp,fn,tn = get_tp_fp_fn_tn(gt_relev_labels , pred_labels)\n",
    "    ## PREC, RECALL\n",
    "    rec = tp/(tp + fn)\n",
    "    prec = tp/(tp+fp)\n",
    "    print \"recall\", rec, \"precision\", prec\n",
    "    # F-SCORE\n",
    "    fscore = 2 * (prec * rec )/( prec + rec ) \n",
    "    print \"fscore\",fscore\n",
    "    #print i,cluster_size_threshold,coverage,compute_cluster_purity(gt_labels, pred_labels), compute_cluster_purity(gt_relev_labels, pred_labels),rand_index_score (gt_labels_numeric , pred_labels), rand_index_score (gt_relev_labels , pred_labels)\n",
    "    print len(gt_labels)\n",
    "    print \"----\"\n",
    "    "
   ]
  }
 ],
 "metadata": {
  "kernelspec": {
   "display_name": "Python [conda env:py27nb]",
   "language": "python",
   "name": "conda-env-py27nb-py"
  },
  "language_info": {
   "codemirror_mode": {
    "name": "ipython",
    "version": 2
   },
   "file_extension": ".py",
   "mimetype": "text/x-python",
   "name": "python",
   "nbconvert_exporter": "python",
   "pygments_lexer": "ipython2",
   "version": "2.7.15"
  }
 },
 "nbformat": 4,
 "nbformat_minor": 2
}
