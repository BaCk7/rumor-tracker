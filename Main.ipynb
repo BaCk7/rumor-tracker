{
 "cells": [
  {
   "cell_type": "markdown",
   "metadata": {},
   "source": [
    "# Entity extraction\n",
    "Partendo da collection raw, estraggo alcuni tipi di entità (nomi, aggettivi, ecc) e metto in rumors_entity, che ha stessi elementi in aggiunta un campo \"entities\""
   ]
  },
  {
   "cell_type": "code",
   "execution_count": 1,
   "metadata": {},
   "outputs": [],
   "source": [
    "import pymongo\n",
    "client=pymongo.MongoClient()#senza parametri si connette a localhost.\n",
    "\n",
    "client.list_database_names()\n",
    "\n",
    "db=client['inforet']#prendo il db, se non c'è lo crea\n",
    "\n",
    "col = db['rumors_raw']\n",
    "\n",
    "tweets = []\n",
    "for record in col.find():\n",
    "    tweets.append(record)"
   ]
  },
  {
   "cell_type": "markdown",
   "metadata": {},
   "source": [
    "### Estrazione entità e tagging con CMU Tagger"
   ]
  },
  {
   "cell_type": "code",
   "execution_count": 2,
   "metadata": {
    "scrolled": true
   },
   "outputs": [
    {
     "name": "stdout",
     "output_type": "stream",
     "text": [
      "Importing Jupyter notebook from TweetParser\\TweetParser.ipynb\n",
      "Parsed: 8560\n"
     ]
    }
   ],
   "source": [
    "import nbimporter\n",
    "from TweetParser.TweetParser import TweetParser #http://www.cs.cmu.edu/~ark/TweetNLP/\n",
    "\n",
    "parser = TweetParser() # oppure parser = TweetParser(tags_to_keep) #tags_to_keep = [ 'N','^','S','Z','A','#','$'] #print parser.tags_to_keep\n",
    "#tagged_entities = parser.tokenize_tweets_from_file(\"TweetParser/examples/example_tweets.txt\")\n",
    "entities = parser.tokenize_tweets(tweets)\n",
    "print \"Parsed: \" + str(len(entities))"
   ]
  },
  {
   "cell_type": "markdown",
   "metadata": {},
   "source": [
    "### Aggiunta al db"
   ]
  },
  {
   "cell_type": "code",
   "execution_count": 4,
   "metadata": {},
   "outputs": [],
   "source": [
    "for i in range(len(tweets)):\n",
    "    tweets[i]['entities']= entities[i]"
   ]
  },
  {
   "cell_type": "code",
   "execution_count": 5,
   "metadata": {},
   "outputs": [
    {
     "data": {
      "text/plain": [
       "<pymongo.results.InsertManyResult at 0x9e93b48>"
      ]
     },
     "execution_count": 5,
     "metadata": {},
     "output_type": "execute_result"
    }
   ],
   "source": [
    "client=pymongo.MongoClient()\n",
    "db=client['inforet']\n",
    "db[\"rumors_entity_cmu\"].drop()\n",
    "col = db[\"rumors_entity_cmu\"]\n",
    "col.insert_many(tweets)"
   ]
  },
  {
   "cell_type": "markdown",
   "metadata": {},
   "source": [
    "### Filtraggio per tipo"
   ]
  },
  {
   "cell_type": "code",
   "execution_count": 6,
   "metadata": {},
   "outputs": [],
   "source": [
    "list_of_types = [ 'N','^','S','Z','A','#','$']\n",
    "\n",
    "def keep_only_entities_of_type(entities, list_of_types):\n",
    "    for index, l in enumerate(entities):\n",
    "        filtered_list = [entity_tag for entity_tag in l if entity_tag[1] in list_of_types]\n",
    "        entities[index] = filtered_list\n",
    "    return entities"
   ]
  },
  {
   "cell_type": "markdown",
   "metadata": {},
   "source": [
    "### Rimozione stopwords"
   ]
  },
  {
   "cell_type": "code",
   "execution_count": 7,
   "metadata": {},
   "outputs": [],
   "source": [
    "from nltk.corpus import stopwords\n",
    "\n",
    "def remove_stopwords(entities, list_of_stopwords=[]):\n",
    "    \n",
    "    if not list_of_stopwords:\n",
    "        list_of_stopwords = set(stopwords.words('english'))\n",
    "    \n",
    "    for index, l in enumerate(entities):\n",
    "        filtered_list = [entity_tag for entity_tag in l if entity_tag[0].lower() not in list_of_stopwords]\n",
    "        entities[index] = filtered_list\n",
    "    return entities"
   ]
  },
  {
   "cell_type": "markdown",
   "metadata": {},
   "source": [
    "#### Remove confidence"
   ]
  },
  {
   "cell_type": "code",
   "execution_count": 8,
   "metadata": {},
   "outputs": [],
   "source": [
    "def remove_confidence(entities):\n",
    "    for index, l in enumerate(entities):\n",
    "        filtered_list = [ (entity_tag[0],entity_tag[1]) for entity_tag in l]\n",
    "        entities[index] = filtered_list\n",
    "    return entities"
   ]
  },
  {
   "cell_type": "markdown",
   "metadata": {},
   "source": [
    "#### lowercase"
   ]
  },
  {
   "cell_type": "code",
   "execution_count": 9,
   "metadata": {},
   "outputs": [],
   "source": [
    "def entities_to_lower(entities):\n",
    "    for list_index, list_entities_in_tweet in enumerate(entities):\n",
    "        for index_entity, entity_tag in enumerate(list_entities_in_tweet):\n",
    "            entities[list_index][index_entity] = (entity_tag[0].lower(),entity_tag[1],entity_tag[2])\n",
    "    return entities"
   ]
  },
  {
   "cell_type": "code",
   "execution_count": 10,
   "metadata": {},
   "outputs": [],
   "source": [
    "#entities_to_lower(entities)\n",
    "#print len(set([tag[0] for e in entities for tag in e ]))"
   ]
  },
  {
   "cell_type": "markdown",
   "metadata": {},
   "source": [
    "### Pre-processing pipeline"
   ]
  },
  {
   "cell_type": "markdown",
   "metadata": {},
   "source": [
    "#### Tags to keep"
   ]
  },
  {
   "cell_type": "markdown",
   "metadata": {},
   "source": [
    "tags_to_keep= [ 'N','^','Z','A','#','$','S'] \n",
    "\n",
    "sono quelle più legate alla parte nominale\n",
    " \n",
    "dubbie V verbi U url R avverbi. \n",
    "\n",
    "Decise:  @ at E esclamazioni G garbage/foreign words ! interiezioni"
   ]
  },
  {
   "cell_type": "code",
   "execution_count": 11,
   "metadata": {},
   "outputs": [
    {
     "name": "stdout",
     "output_type": "stream",
     "text": [
      "{'!': 276, '#': 598, '$': 277, '&': 24, ',': 119, 'A': 1204, '@': 1895, 'E': 40, 'D': 98, 'G': 460, 'M': 0, 'L': 107, 'O': 105, 'N': 4015, 'P': 217, 'S': 20, 'R': 408, 'U': 3183, 'T': 14, 'V': 2371, 'Y': 0, 'X': 7, 'Z': 108, '^': 2754, '~': 35}\n"
     ]
    }
   ],
   "source": [
    "#UNIQUEEE\n",
    "u= dict()\n",
    "for t in parser.tags_meaning.keys():\n",
    "    n = len(set([tag[0] for e in entities for tag in e if tag[1] == t]))\n",
    "    u[t]=n\n",
    "print u"
   ]
  },
  {
   "cell_type": "code",
   "execution_count": 12,
   "metadata": {},
   "outputs": [
    {
     "name": "stdout",
     "output_type": "stream",
     "text": [
      "+------+-------+--------+----------------+-----------------------------------------------------------------------------------+\n",
      "| Type | Total | Unique |           Rate | Meaning                                                                           |\n",
      "+------+-------+--------+----------------+-----------------------------------------------------------------------------------+\n",
      "|  N   | 26850 |   4015 |  14.9534450652 | common noun                                                                       |\n",
      "|  ^   | 24122 |   2754 |  11.4169637675 | proper noun                                                                       |\n",
      "|  V   | 21279 |   2371 |  11.1424409042 | verb incl. copula, auxiliaries                                                    |\n",
      "|  ,   | 20951 |    119 |  0.56799198129 | punctuation                                                                       |\n",
      "|  P   | 15524 |    217 |  1.39783560938 | pre- or postposition, or subordinating conjunction                                |\n",
      "|  D   |  9197 |     98 |  1.06556485811 | determiner                                                                        |\n",
      "|  ~   |  8626 |     35 | 0.405750057964 | discourse marker, indications of continuation of a message across multiple tweets |\n",
      "|  A   |  6932 |   1204 |  17.3687247548 | adjective                                                                         |\n",
      "|  U   |  6113 |   3183 |  52.0693603795 | URL or email address                                                              |\n",
      "|  O   |  5576 |    105 |  1.88307030129 | pronoun (personal/WH; not possessive)                                             |\n",
      "|  @   |  5469 |   1895 |  34.6498445785 | at-mention (indicates another user as a recipient of a tweet)                     |\n",
      "|  R   |  4069 |    408 |  10.0270336692 | adverb                                                                            |\n",
      "|  #   |  3335 |    598 |  17.9310344828 | hashtag (indicates topic/category for tweet)                                      |\n",
      "|  &   |  3033 |     24 | 0.791295746785 | coordinating conjunction                                                          |\n",
      "|  $   |  2551 |    277 |  10.8584868679 | numeral                                                                           |\n",
      "|  G   |  1774 |    460 |  25.9301014656 | other abbreviations, foreign words, possessive endings, symbols, garbage          |\n",
      "|  L   |  1105 |    107 |  9.68325791855 | nominal + verbal (e.g. _i'm_), verbal + nominal (_let's_, _lemme_)                |\n",
      "|  !   |  1104 |    276 |           25.0 | interjection                                                                      |\n",
      "|  Z   |   848 |    108 |  12.7358490566 | proper noun + possessive (Palin's, Alaska's)                                      |\n",
      "|  T   |   517 |     14 |   2.7079303675 | verb particle                                                                     |\n",
      "|  E   |   140 |     40 |  28.5714285714 | emoticon                                                                          |\n",
      "|  X   |   103 |      7 |  6.79611650485 | existential _there_, predeterminers                                               |\n",
      "|  S   |    50 |     20 |           40.0 | nominal + possessive(lady's)                                                      |\n",
      "+------+-------+--------+----------------+-----------------------------------------------------------------------------------+\n"
     ]
    }
   ],
   "source": [
    "from prettytable import PrettyTable\n",
    "from collections import Counter\n",
    "\n",
    "c = Counter([tag[1] for e in entities for tag in e ]).most_common()\n",
    "\n",
    "x = PrettyTable()\n",
    "\n",
    "x.field_names = [\"Type\",\"Total\",\"Unique\",\"Rate\",\"Meaning\"]\n",
    "\n",
    "meanings = parser.tags_meaning\n",
    "\n",
    "#UNIQUEEE\n",
    "u= dict()\n",
    "for t in parser.tags_meaning.keys():\n",
    "    n = len(set([tag[0] for e in entities for tag in e if tag[1] == t]))\n",
    "    u[t]=n\n",
    "#print u\n",
    "\n",
    "from nltk.corpus import stopwords\n",
    "list_of_stopwords = set(stopwords.words('english'))\n",
    "\n",
    "stopw= dict()\n",
    "for t in parser.tags_meaning.keys():\n",
    "    n = len(set([tag[0] for e in entities for tag in e if tag[1] == t and tag[0] in list_of_stopwords ]))\n",
    "    stopw[t]=n\n",
    "\n",
    "for v in c:\n",
    "    v = list(v)\n",
    "    #print meanings[v[0]]\n",
    "    v.append(u[v[0]])\n",
    "    v.append(float(u[v[0]])*100/v[1])\n",
    "    #v.append(stopw[v[0]])\n",
    "    v.append(meanings[v[0]])\n",
    "    \n",
    "    #print v\n",
    "    x.add_row(v)\n",
    "\n",
    "\n",
    "\n",
    "x.align[\"Meaning\"] = \"l\"\n",
    "x.align[\"Total\"] = \"r\"\n",
    "x.align[\"Unique\"] = \"r\"\n",
    "x.align[\"Rate\"] = \"r\"\n",
    "#x.align[\"Stopwords\"] = \"r\"\n",
    "print(x)"
   ]
  },
  {
   "cell_type": "code",
   "execution_count": 13,
   "metadata": {},
   "outputs": [],
   "source": [
    "tags_to_keep= [ 'N','^','S','Z','A','#','$']"
   ]
  },
  {
   "cell_type": "markdown",
   "metadata": {},
   "source": [
    "#### Pipeline Execution"
   ]
  },
  {
   "cell_type": "code",
   "execution_count": 14,
   "metadata": {},
   "outputs": [
    {
     "name": "stdout",
     "output_type": "stream",
     "text": [
      "{'rumor': {'$in': ['michelle', 'airfrance', 'palin']}}\n",
      "Retrieved 4751 tweets\n"
     ]
    },
    {
     "data": {
      "text/plain": [
       "<pymongo.results.InsertManyResult at 0x9baabc8>"
      ]
     },
     "execution_count": 14,
     "metadata": {},
     "output_type": "execute_result"
    }
   ],
   "source": [
    "import pymongo\n",
    "import nbimporter\n",
    "from TweetParser.TweetParser import TweetParser #http://www.cs.cmu.edu/~ark/TweetNLP/\n",
    "\n",
    "client=pymongo.MongoClient()#senza parametri si connette a localhost.\n",
    "\n",
    "db=client['inforet']#prendo il db, se non c'è lo crea\n",
    "\n",
    "col = db['rumors_entity_cmu']\n",
    "\n",
    "### RETRIEVAL\n",
    "p = []\n",
    "p.append({'$match':{'languages':'en'}})\n",
    "\n",
    "#selection = {}\n",
    "selection = {'rumor': { '$in': ['michelle','airfrance','palin']}}\n",
    "#selection ={'rumor': { '$in': ['michelle','airfrance']}}\n",
    "print selection\n",
    "p.append({'$match': selection})\n",
    "\n",
    "tweets = []\n",
    "entities = []\n",
    "for record in col.aggregate(p): # col.find(selection):\n",
    "    tweets.append(record)\n",
    "    entities.append(record['entities'])\n",
    "\n",
    "print \"Retrieved \" + str(len(entities)) + \" tweets\"\n",
    "\n",
    "remove_stopwords(entities)\n",
    "keep_only_entities_of_type(entities,[ 'N','^','S','Z','A','#','$'])\n",
    "\n",
    "### INSERT IN DB AS NEW COLLECTION\n",
    "for i in range(len(tweets)):\n",
    "    tweets[i]['entities'] = entities[i]\n",
    "db[\"rumors_entity_cmu_filtered\"].drop()\n",
    "col = db[\"rumors_entity_cmu_filtered\"]\n",
    "col.insert_many(tweets)"
   ]
  },
  {
   "cell_type": "markdown",
   "metadata": {},
   "source": [
    "### Tracker"
   ]
  },
  {
   "cell_type": "code",
   "execution_count": 1,
   "metadata": {},
   "outputs": [
    {
     "name": "stdout",
     "output_type": "stream",
     "text": [
      "Importing Jupyter notebook from Tracker.ipynb\n"
     ]
    }
   ],
   "source": [
    "import nbimporter\n",
    "from Tracker import Tracker"
   ]
  },
  {
   "cell_type": "markdown",
   "metadata": {},
   "source": [
    "## Cluster"
   ]
  },
  {
   "cell_type": "code",
   "execution_count": 2,
   "metadata": {},
   "outputs": [],
   "source": [
    "import nbimporter\n",
    "from Tracker import Cluster"
   ]
  },
  {
   "cell_type": "code",
   "execution_count": 3,
   "metadata": {},
   "outputs": [],
   "source": [
    "jd = Tracker('inforet','rumors_entity_cmu_filtered',decay_window=24, decay_factor_T=1.0/25000, similarity_threshold= 0.3)"
   ]
  },
  {
   "cell_type": "code",
   "execution_count": 4,
   "metadata": {
    "scrolled": true
   },
   "outputs": [
    {
     "name": "stdout",
     "output_type": "stream",
     "text": [
      "60\n",
      "200\n",
      "10\n",
      "1.5\n",
      "24\n",
      "4e-05\n",
      "95\n",
      "[]\n"
     ]
    }
   ],
   "source": [
    "print jd.window_size\n",
    "print jd.update_for_first_k\n",
    "print jd.update_for_every_n\n",
    "print jd.hashtag_boost\n",
    "print jd.decay_window\n",
    "print jd.decay_factor_T\n",
    "print jd.keep_top_perc\n",
    "#print jd.icfs\n",
    "print jd.clusters"
   ]
  },
  {
   "cell_type": "code",
   "execution_count": 5,
   "metadata": {
    "scrolled": true
   },
   "outputs": [
    {
     "name": "stdout",
     "output_type": "stream",
     "text": [
      "start  2018-10-07 19:17:30.891000\n"
     ]
    },
    {
     "name": "stderr",
     "output_type": "stream",
     "text": [
      "Tracker.ipynb:81: RuntimeWarning: invalid value encountered in divide\n",
      "  \"                        # se non faccio aggiunte da molto tempo,\\n\",\n"
     ]
    },
    {
     "name": "stdout",
     "output_type": "stream",
     "text": [
      "end  2018-10-07 19:18:12.609000\n",
      "delta 0:00:41.718000\n"
     ]
    }
   ],
   "source": [
    "import datetime\n",
    "\n",
    "a = datetime.datetime.now()\n",
    "print \"start \", a\n",
    "\n",
    "jd.clusterize(use_decay=True)\n",
    "b = datetime.datetime.now()\n",
    "\n",
    "print \"end \", b\n",
    "print \"delta\", b-a"
   ]
  },
  {
   "cell_type": "code",
   "execution_count": 6,
   "metadata": {
    "scrolled": false
   },
   "outputs": [
    {
     "name": "stdout",
     "output_type": "stream",
     "text": [
      "442\n",
      "0\n"
     ]
    }
   ],
   "source": [
    "print len(jd.clusters)\n",
    "print len(jd.discarded)"
   ]
  },
  {
   "cell_type": "code",
   "execution_count": 7,
   "metadata": {
    "scrolled": true
   },
   "outputs": [
    {
     "data": {
      "text/plain": [
       "(9L, 1L)"
      ]
     },
     "execution_count": 7,
     "metadata": {},
     "output_type": "execute_result"
    }
   ],
   "source": [
    "cl = jd.clusters[2]\n",
    "cl.M.shape"
   ]
  },
  {
   "cell_type": "markdown",
   "metadata": {},
   "source": [
    "# Analisi Risultati"
   ]
  },
  {
   "cell_type": "code",
   "execution_count": 8,
   "metadata": {
    "scrolled": true
   },
   "outputs": [
    {
     "name": "stdout",
     "output_type": "stream",
     "text": [
      "10.748868778280542\n",
      "304\n",
      "1\n",
      "5.0\n",
      "1.0\n"
     ]
    }
   ],
   "source": [
    "cl_lens = [len(c.tweets) for c in jd.clusters]\n",
    "import numpy as np\n",
    "print np.mean(cl_lens)\n",
    "print np.max(cl_lens)\n",
    "print np.min(cl_lens)\n",
    "print np.percentile(cl_lens,75)\n",
    "print np.median(cl_lens)\n",
    "#print np.var(cl_lens)"
   ]
  },
  {
   "cell_type": "markdown",
   "metadata": {},
   "source": [
    " ### Clusters size\n"
   ]
  },
  {
   "cell_type": "code",
   "execution_count": 9,
   "metadata": {},
   "outputs": [],
   "source": [
    "degree_sample = cl_lens"
   ]
  },
  {
   "cell_type": "code",
   "execution_count": 10,
   "metadata": {},
   "outputs": [
    {
     "data": {
      "text/plain": [
       "0.9999999999999992"
      ]
     },
     "execution_count": 10,
     "metadata": {},
     "output_type": "execute_result"
    }
   ],
   "source": [
    "# np.arange(min_t,max_t+1) #Perchè +1? perchè vengono generati valori fino a max_t, max t escluso\n",
    "# +2 perchè altrimenti unisce gli ultimi due intervalli\n",
    "count_people, bins_people = np.histogram(degree_sample,np.arange(np.min(degree_sample),np.max(degree_sample)+2))\n",
    "\n",
    "pdf_people = count_people/float(len(degree_sample))\n",
    "#print pdf_people\n",
    "sum(pdf_people)"
   ]
  },
  {
   "cell_type": "code",
   "execution_count": 11,
   "metadata": {},
   "outputs": [],
   "source": [
    "import matplotlib.pyplot as plt\n",
    "%matplotlib inline"
   ]
  },
  {
   "cell_type": "code",
   "execution_count": 12,
   "metadata": {
    "scrolled": true
   },
   "outputs": [
    {
     "data": {
      "text/plain": [
       "Text(0,0.5,'PDF')"
      ]
     },
     "execution_count": 12,
     "metadata": {},
     "output_type": "execute_result"
    },
    {
     "data": {
      "image/png": "[encoded data removed]",
      "text/plain": [
       "<Figure size 1152x648 with 1 Axes>"
      ]
     },
     "metadata": {},
     "output_type": "display_data"
    }
   ],
   "source": [
    "fig = plt.figure(figsize=(16,9)) #è la dimensione del grafico\n",
    "assi = fig.gca()\n",
    "assi.plot(bins_people[:-1],pdf_people,color='orange',marker='o',linestyle='None', ms = 7)\n",
    "assi.set_xlabel('Cluster size',size=30)\n",
    "assi.set_ylabel('PDF',size=30)\n",
    "#fig.savefig('pdf.png', dpi=300)"
   ]
  },
  {
   "cell_type": "code",
   "execution_count": 13,
   "metadata": {
    "scrolled": true
   },
   "outputs": [
    {
     "data": {
      "text/plain": [
       "Text(0,0.5,'CDF')"
      ]
     },
     "execution_count": 13,
     "metadata": {},
     "output_type": "execute_result"
    },
    {
     "data": {
      "image/png": "[encoded data removed]",
      "text/plain": [
       "<Figure size 1152x648 with 1 Axes>"
      ]
     },
     "metadata": {},
     "output_type": "display_data"
    }
   ],
   "source": [
    "cdf_people = np.cumsum(pdf_people)\n",
    "fig = plt.figure(figsize=(16,9))\n",
    "assi = fig.gca()\n",
    "assi.plot(bins_people[:-1],cdf_people,color='orange',marker='o',linestyle='None', ms = 7)#linestyle='--'\n",
    "assi.set_xlabel('Cluster size',size=30)\n",
    "assi.set_ylabel('CDF',size=30)\n",
    "#fig.savefig('cdf.png', dpi=300)"
   ]
  },
  {
   "cell_type": "code",
   "execution_count": 14,
   "metadata": {
    "scrolled": false
   },
   "outputs": [
    {
     "name": "stdout",
     "output_type": "stream",
     "text": [
      "82\n",
      "360\n"
     ]
    }
   ],
   "source": [
    "x = [cl for cl in jd.clusters if len(cl.tweets) >= 10]\n",
    "y = [cl for cl in jd.clusters if len(cl.tweets) < 10]\n",
    "print len(x)\n",
    "print len(y)"
   ]
  },
  {
   "cell_type": "markdown",
   "metadata": {},
   "source": [
    "### Cluster vs rumors"
   ]
  },
  {
   "cell_type": "code",
   "execution_count": 15,
   "metadata": {},
   "outputs": [],
   "source": [
    "from collections import Counter\n",
    "perc = {}\n",
    "clusters_over_100 =  [(i,cl) for i,cl in enumerate(jd.clusters) if len(cl.tweets) >= 30]\n",
    "#print a[0]\n",
    "for el in clusters_over_100:\n",
    "    i = el[0]\n",
    "    cl = el[1]\n",
    "    c = Counter()\n",
    "    for t in cl.tweets:\n",
    "        c.update({t['rumor']:1})\n",
    "    perc[i] = c"
   ]
  },
  {
   "cell_type": "markdown",
   "metadata": {},
   "source": [
    "https://matplotlib.org/gallery/lines_bars_and_markers/bar_stacked.html"
   ]
  },
  {
   "cell_type": "code",
   "execution_count": 18,
   "metadata": {
    "scrolled": false
   },
   "outputs": [
    {
     "name": "stdout",
     "output_type": "stream",
     "text": [
      "obama\n",
      "michelle\n",
      "airfrance\n",
      "palin\n",
      "cell\n"
     ]
    },
    {
     "data": {
      "image/png": "[encoded data removed]",
      "text/plain": [
       "<Figure size 1152x648 with 1 Axes>"
      ]
     },
     "metadata": {},
     "output_type": "display_data"
    }
   ],
   "source": [
    "import numpy as np\n",
    "import matplotlib.pyplot as plt\n",
    "\n",
    "cluster_numbers = { }\n",
    "rumors=['obama' , 'michelle' ,'airfrance','palin','cell']\n",
    "\n",
    "previous = np.array(len(perc.keys()))\n",
    "previous = [0 for x in perc.keys()]\n",
    "#previous = [0,0,0,0,0,0,0]\n",
    "plots = []\n",
    "ind = np.arange(len(perc.keys()))\n",
    "width = 0.2 #len(perc.keys()) # the width of the bars: can also be len(x) sequence\n",
    "\n",
    "fig = plt.figure(figsize=(16,9)) #è la dimensione del grafico\n",
    "assi = fig.gca()\n",
    "\n",
    "for r in rumors:\n",
    "    print r\n",
    "    means = []\n",
    "    for k in perc.keys():\n",
    "        #print k\n",
    "        #print r\n",
    "        #print perc[k][r]\n",
    "        means.append(perc[k][r])\n",
    "        #print womenMeans\n",
    "    #print womenMeans \n",
    "    p = assi.bar(ind, means, width, bottom=previous)\n",
    "    previous = means\n",
    "    plots.append((p,r))\n",
    "\n",
    "plt.ylabel('Tweets')\n",
    "#plt.title('Scores by group and gender')\n",
    "plt.xticks(ind, perc.keys())\n",
    "plt.xlabel('Clusters')\n",
    "#plt.yticks(np.arange(0, 81, 10))\n",
    "plt.legend([x[0] for x in plots], [x[1] for x in plots])\n",
    "plt.show()"
   ]
  },
  {
   "cell_type": "code",
   "execution_count": 19,
   "metadata": {
    "scrolled": true
   },
   "outputs": [
    {
     "name": "stdout",
     "output_type": "stream",
     "text": [
      "82\n",
      "360\n"
     ]
    }
   ],
   "source": [
    "x = [cl for cl in jd.clusters if len(cl.tweets) >= 10]\n",
    "y = [cl for cl in jd.clusters if len(cl.tweets) < 10]\n",
    "print len(x)\n",
    "print len(y)"
   ]
  }
 ],
 "metadata": {
  "kernelspec": {
   "display_name": "Python [conda env:py27nb]",
   "language": "python",
   "name": "conda-env-py27nb-py"
  },
  "language_info": {
   "codemirror_mode": {
    "name": "ipython",
    "version": 2
   },
   "file_extension": ".py",
   "mimetype": "text/x-python",
   "name": "python",
   "nbconvert_exporter": "python",
   "pygments_lexer": "ipython2",
   "version": "2.7.15"
  }
 },
 "nbformat": 4,
 "nbformat_minor": 2
}
